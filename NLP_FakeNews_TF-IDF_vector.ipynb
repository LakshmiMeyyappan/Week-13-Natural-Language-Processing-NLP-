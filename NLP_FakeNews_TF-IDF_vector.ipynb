{
 "cells": [
  {
   "cell_type": "code",
   "execution_count": 1,
   "id": "a60039f9-b8d5-4d28-9f40-aba3bbd88610",
   "metadata": {},
   "outputs": [],
   "source": [
    "import pandas as pd\n",
    "import numpy as np\n",
    "import joblib \n",
    "\n",
    "from sklearn.feature_extraction.text import CountVectorizer, TfidfVectorizer, HashingVectorizer\n",
    "from sklearn.model_selection import train_test_split\n",
    "from sklearn.linear_model import PassiveAggressiveClassifier,LogisticRegression\n",
    "from sklearn.ensemble import RandomForestClassifier\n",
    "from sklearn.naive_bayes import MultinomialNB\n",
    "from sklearn import metrics"
   ]
  },
  {
   "cell_type": "code",
   "execution_count": 3,
   "id": "ceb4145d-761b-4a94-9184-95954588c1bc",
   "metadata": {},
   "outputs": [],
   "source": [
    "df=pd.read_csv('news.csv', index_col=None)"
   ]
  },
  {
   "cell_type": "code",
   "execution_count": 5,
   "id": "ca4e54dc-fd26-4c8b-8919-206d6a6f1a60",
   "metadata": {},
   "outputs": [
    {
     "data": {
      "text/html": [
       "<div>\n",
       "<style scoped>\n",
       "    .dataframe tbody tr th:only-of-type {\n",
       "        vertical-align: middle;\n",
       "    }\n",
       "\n",
       "    .dataframe tbody tr th {\n",
       "        vertical-align: top;\n",
       "    }\n",
       "\n",
       "    .dataframe thead th {\n",
       "        text-align: right;\n",
       "    }\n",
       "</style>\n",
       "<table border=\"1\" class=\"dataframe\">\n",
       "  <thead>\n",
       "    <tr style=\"text-align: right;\">\n",
       "      <th></th>\n",
       "      <th>Unnamed: 0</th>\n",
       "      <th>title</th>\n",
       "      <th>text</th>\n",
       "      <th>label</th>\n",
       "    </tr>\n",
       "  </thead>\n",
       "  <tbody>\n",
       "    <tr>\n",
       "      <th>0</th>\n",
       "      <td>8476</td>\n",
       "      <td>You Can Smell Hillary’s Fear</td>\n",
       "      <td>Daniel Greenfield, a Shillman Journalism Fello...</td>\n",
       "      <td>FAKE</td>\n",
       "    </tr>\n",
       "    <tr>\n",
       "      <th>1</th>\n",
       "      <td>10294</td>\n",
       "      <td>Watch The Exact Moment Paul Ryan Committed Pol...</td>\n",
       "      <td>Google Pinterest Digg Linkedin Reddit Stumbleu...</td>\n",
       "      <td>FAKE</td>\n",
       "    </tr>\n",
       "    <tr>\n",
       "      <th>2</th>\n",
       "      <td>3608</td>\n",
       "      <td>Kerry to go to Paris in gesture of sympathy</td>\n",
       "      <td>U.S. Secretary of State John F. Kerry said Mon...</td>\n",
       "      <td>REAL</td>\n",
       "    </tr>\n",
       "    <tr>\n",
       "      <th>3</th>\n",
       "      <td>10142</td>\n",
       "      <td>Bernie supporters on Twitter erupt in anger ag...</td>\n",
       "      <td>— Kaydee King (@KaydeeKing) November 9, 2016 T...</td>\n",
       "      <td>FAKE</td>\n",
       "    </tr>\n",
       "    <tr>\n",
       "      <th>4</th>\n",
       "      <td>875</td>\n",
       "      <td>The Battle of New York: Why This Primary Matters</td>\n",
       "      <td>It's primary day in New York and front-runners...</td>\n",
       "      <td>REAL</td>\n",
       "    </tr>\n",
       "    <tr>\n",
       "      <th>...</th>\n",
       "      <td>...</td>\n",
       "      <td>...</td>\n",
       "      <td>...</td>\n",
       "      <td>...</td>\n",
       "    </tr>\n",
       "    <tr>\n",
       "      <th>6330</th>\n",
       "      <td>4490</td>\n",
       "      <td>State Department says it can't find emails fro...</td>\n",
       "      <td>The State Department told the Republican Natio...</td>\n",
       "      <td>REAL</td>\n",
       "    </tr>\n",
       "    <tr>\n",
       "      <th>6331</th>\n",
       "      <td>8062</td>\n",
       "      <td>The ‘P’ in PBS Should Stand for ‘Plutocratic’ ...</td>\n",
       "      <td>The ‘P’ in PBS Should Stand for ‘Plutocratic’ ...</td>\n",
       "      <td>FAKE</td>\n",
       "    </tr>\n",
       "    <tr>\n",
       "      <th>6332</th>\n",
       "      <td>8622</td>\n",
       "      <td>Anti-Trump Protesters Are Tools of the Oligarc...</td>\n",
       "      <td>Anti-Trump Protesters Are Tools of the Oligar...</td>\n",
       "      <td>FAKE</td>\n",
       "    </tr>\n",
       "    <tr>\n",
       "      <th>6333</th>\n",
       "      <td>4021</td>\n",
       "      <td>In Ethiopia, Obama seeks progress on peace, se...</td>\n",
       "      <td>ADDIS ABABA, Ethiopia —President Obama convene...</td>\n",
       "      <td>REAL</td>\n",
       "    </tr>\n",
       "    <tr>\n",
       "      <th>6334</th>\n",
       "      <td>4330</td>\n",
       "      <td>Jeb Bush Is Suddenly Attacking Trump. Here's W...</td>\n",
       "      <td>Jeb Bush Is Suddenly Attacking Trump. Here's W...</td>\n",
       "      <td>REAL</td>\n",
       "    </tr>\n",
       "  </tbody>\n",
       "</table>\n",
       "<p>6335 rows × 4 columns</p>\n",
       "</div>"
      ],
      "text/plain": [
       "      Unnamed: 0                                              title  \\\n",
       "0           8476                       You Can Smell Hillary’s Fear   \n",
       "1          10294  Watch The Exact Moment Paul Ryan Committed Pol...   \n",
       "2           3608        Kerry to go to Paris in gesture of sympathy   \n",
       "3          10142  Bernie supporters on Twitter erupt in anger ag...   \n",
       "4            875   The Battle of New York: Why This Primary Matters   \n",
       "...          ...                                                ...   \n",
       "6330        4490  State Department says it can't find emails fro...   \n",
       "6331        8062  The ‘P’ in PBS Should Stand for ‘Plutocratic’ ...   \n",
       "6332        8622  Anti-Trump Protesters Are Tools of the Oligarc...   \n",
       "6333        4021  In Ethiopia, Obama seeks progress on peace, se...   \n",
       "6334        4330  Jeb Bush Is Suddenly Attacking Trump. Here's W...   \n",
       "\n",
       "                                                   text label  \n",
       "0     Daniel Greenfield, a Shillman Journalism Fello...  FAKE  \n",
       "1     Google Pinterest Digg Linkedin Reddit Stumbleu...  FAKE  \n",
       "2     U.S. Secretary of State John F. Kerry said Mon...  REAL  \n",
       "3     — Kaydee King (@KaydeeKing) November 9, 2016 T...  FAKE  \n",
       "4     It's primary day in New York and front-runners...  REAL  \n",
       "...                                                 ...   ...  \n",
       "6330  The State Department told the Republican Natio...  REAL  \n",
       "6331  The ‘P’ in PBS Should Stand for ‘Plutocratic’ ...  FAKE  \n",
       "6332   Anti-Trump Protesters Are Tools of the Oligar...  FAKE  \n",
       "6333  ADDIS ABABA, Ethiopia —President Obama convene...  REAL  \n",
       "6334  Jeb Bush Is Suddenly Attacking Trump. Here's W...  REAL  \n",
       "\n",
       "[6335 rows x 4 columns]"
      ]
     },
     "execution_count": 5,
     "metadata": {},
     "output_type": "execute_result"
    }
   ],
   "source": [
    "df"
   ]
  },
  {
   "cell_type": "code",
   "execution_count": 7,
   "id": "415cc137-d860-44eb-af97-7d5150b2b72e",
   "metadata": {},
   "outputs": [],
   "source": [
    "dataset = df.drop('Unnamed: 0',axis=1)"
   ]
  },
  {
   "cell_type": "code",
   "execution_count": 9,
   "id": "b713c9c1-61a1-4ca2-8a05-60b05de1c086",
   "metadata": {},
   "outputs": [
    {
     "data": {
      "text/html": [
       "<div>\n",
       "<style scoped>\n",
       "    .dataframe tbody tr th:only-of-type {\n",
       "        vertical-align: middle;\n",
       "    }\n",
       "\n",
       "    .dataframe tbody tr th {\n",
       "        vertical-align: top;\n",
       "    }\n",
       "\n",
       "    .dataframe thead th {\n",
       "        text-align: right;\n",
       "    }\n",
       "</style>\n",
       "<table border=\"1\" class=\"dataframe\">\n",
       "  <thead>\n",
       "    <tr style=\"text-align: right;\">\n",
       "      <th></th>\n",
       "      <th>title</th>\n",
       "      <th>text</th>\n",
       "      <th>label</th>\n",
       "    </tr>\n",
       "  </thead>\n",
       "  <tbody>\n",
       "    <tr>\n",
       "      <th>0</th>\n",
       "      <td>You Can Smell Hillary’s Fear</td>\n",
       "      <td>Daniel Greenfield, a Shillman Journalism Fello...</td>\n",
       "      <td>FAKE</td>\n",
       "    </tr>\n",
       "    <tr>\n",
       "      <th>1</th>\n",
       "      <td>Watch The Exact Moment Paul Ryan Committed Pol...</td>\n",
       "      <td>Google Pinterest Digg Linkedin Reddit Stumbleu...</td>\n",
       "      <td>FAKE</td>\n",
       "    </tr>\n",
       "    <tr>\n",
       "      <th>2</th>\n",
       "      <td>Kerry to go to Paris in gesture of sympathy</td>\n",
       "      <td>U.S. Secretary of State John F. Kerry said Mon...</td>\n",
       "      <td>REAL</td>\n",
       "    </tr>\n",
       "    <tr>\n",
       "      <th>3</th>\n",
       "      <td>Bernie supporters on Twitter erupt in anger ag...</td>\n",
       "      <td>— Kaydee King (@KaydeeKing) November 9, 2016 T...</td>\n",
       "      <td>FAKE</td>\n",
       "    </tr>\n",
       "    <tr>\n",
       "      <th>4</th>\n",
       "      <td>The Battle of New York: Why This Primary Matters</td>\n",
       "      <td>It's primary day in New York and front-runners...</td>\n",
       "      <td>REAL</td>\n",
       "    </tr>\n",
       "    <tr>\n",
       "      <th>...</th>\n",
       "      <td>...</td>\n",
       "      <td>...</td>\n",
       "      <td>...</td>\n",
       "    </tr>\n",
       "    <tr>\n",
       "      <th>6330</th>\n",
       "      <td>State Department says it can't find emails fro...</td>\n",
       "      <td>The State Department told the Republican Natio...</td>\n",
       "      <td>REAL</td>\n",
       "    </tr>\n",
       "    <tr>\n",
       "      <th>6331</th>\n",
       "      <td>The ‘P’ in PBS Should Stand for ‘Plutocratic’ ...</td>\n",
       "      <td>The ‘P’ in PBS Should Stand for ‘Plutocratic’ ...</td>\n",
       "      <td>FAKE</td>\n",
       "    </tr>\n",
       "    <tr>\n",
       "      <th>6332</th>\n",
       "      <td>Anti-Trump Protesters Are Tools of the Oligarc...</td>\n",
       "      <td>Anti-Trump Protesters Are Tools of the Oligar...</td>\n",
       "      <td>FAKE</td>\n",
       "    </tr>\n",
       "    <tr>\n",
       "      <th>6333</th>\n",
       "      <td>In Ethiopia, Obama seeks progress on peace, se...</td>\n",
       "      <td>ADDIS ABABA, Ethiopia —President Obama convene...</td>\n",
       "      <td>REAL</td>\n",
       "    </tr>\n",
       "    <tr>\n",
       "      <th>6334</th>\n",
       "      <td>Jeb Bush Is Suddenly Attacking Trump. Here's W...</td>\n",
       "      <td>Jeb Bush Is Suddenly Attacking Trump. Here's W...</td>\n",
       "      <td>REAL</td>\n",
       "    </tr>\n",
       "  </tbody>\n",
       "</table>\n",
       "<p>6335 rows × 3 columns</p>\n",
       "</div>"
      ],
      "text/plain": [
       "                                                  title  \\\n",
       "0                          You Can Smell Hillary’s Fear   \n",
       "1     Watch The Exact Moment Paul Ryan Committed Pol...   \n",
       "2           Kerry to go to Paris in gesture of sympathy   \n",
       "3     Bernie supporters on Twitter erupt in anger ag...   \n",
       "4      The Battle of New York: Why This Primary Matters   \n",
       "...                                                 ...   \n",
       "6330  State Department says it can't find emails fro...   \n",
       "6331  The ‘P’ in PBS Should Stand for ‘Plutocratic’ ...   \n",
       "6332  Anti-Trump Protesters Are Tools of the Oligarc...   \n",
       "6333  In Ethiopia, Obama seeks progress on peace, se...   \n",
       "6334  Jeb Bush Is Suddenly Attacking Trump. Here's W...   \n",
       "\n",
       "                                                   text label  \n",
       "0     Daniel Greenfield, a Shillman Journalism Fello...  FAKE  \n",
       "1     Google Pinterest Digg Linkedin Reddit Stumbleu...  FAKE  \n",
       "2     U.S. Secretary of State John F. Kerry said Mon...  REAL  \n",
       "3     — Kaydee King (@KaydeeKing) November 9, 2016 T...  FAKE  \n",
       "4     It's primary day in New York and front-runners...  REAL  \n",
       "...                                                 ...   ...  \n",
       "6330  The State Department told the Republican Natio...  REAL  \n",
       "6331  The ‘P’ in PBS Should Stand for ‘Plutocratic’ ...  FAKE  \n",
       "6332   Anti-Trump Protesters Are Tools of the Oligar...  FAKE  \n",
       "6333  ADDIS ABABA, Ethiopia —President Obama convene...  REAL  \n",
       "6334  Jeb Bush Is Suddenly Attacking Trump. Here's W...  REAL  \n",
       "\n",
       "[6335 rows x 3 columns]"
      ]
     },
     "execution_count": 9,
     "metadata": {},
     "output_type": "execute_result"
    }
   ],
   "source": [
    "dataset"
   ]
  },
  {
   "cell_type": "code",
   "execution_count": 11,
   "id": "cdc2b9d3-1d68-454d-9da9-c7f28a22ef6a",
   "metadata": {},
   "outputs": [],
   "source": [
    "y=dataset[\"label\"]"
   ]
  },
  {
   "cell_type": "code",
   "execution_count": 13,
   "id": "ec439203-e822-40ed-89e3-99b47d4ab44f",
   "metadata": {},
   "outputs": [],
   "source": [
    "x_train, x_test, y_train, y_test = train_test_split(dataset['text'], y, test_size=0.33, random_state=53)"
   ]
  },
  {
   "cell_type": "markdown",
   "id": "9bfd5f8d-d49f-4d29-ae9f-bc611981ee68",
   "metadata": {},
   "source": [
    "### TF-IDF vector"
   ]
  },
  {
   "cell_type": "code",
   "execution_count": 16,
   "id": "3d7409ca-3da4-43c0-bedf-54c62cf82ef2",
   "metadata": {
    "scrolled": true
   },
   "outputs": [
    {
     "name": "stdout",
     "output_type": "stream",
     "text": [
      "  (1, 42470)\t0.07711040274149526\n",
      "  (1, 12105)\t0.15008066461476866\n",
      "  (1, 54177)\t0.13782629144711137\n",
      "  (1, 50628)\t0.061296988343109586\n",
      "  (1, 15924)\t0.3479045460649079\n",
      "  (1, 44520)\t0.4973826512693341\n",
      "  (1, 51896)\t0.11596517664605868\n",
      "  (1, 35783)\t0.30902690818827977\n",
      "  (1, 35256)\t0.12628385718450857\n",
      "  (1, 21881)\t0.21271688045815978\n",
      "  (1, 42534)\t0.06081715886809217\n",
      "  (1, 8399)\t0.08729542880625335\n",
      "  (1, 29531)\t0.1454406205718245\n",
      "  (1, 15927)\t0.4973826512693341\n",
      "  (1, 25686)\t0.13550453594288983\n",
      "  (1, 49203)\t0.1672740861784377\n",
      "  (1, 16814)\t0.10404977746548139\n",
      "  (1, 36087)\t0.12648679854389897\n",
      "  (1, 21568)\t0.1007920919566398\n",
      "  (1, 25684)\t0.1030420922189754\n",
      "  (1, 38823)\t0.06048803110658644\n",
      "  (1, 47506)\t0.14539060877460044\n",
      "  (1, 36831)\t0.10772488937433067\n",
      "  (2, 16972)\t0.1606296088662543\n",
      "  (2, 762)\t0.48803966069171073\n",
      "  :\t:\n",
      "  (4243, 41435)\t0.02969665315895183\n",
      "  (4243, 53607)\t0.044665186536595916\n",
      "  (4243, 659)\t0.04293180970016178\n",
      "  (4243, 38834)\t0.037049324915825195\n",
      "  (4243, 19003)\t0.034437531050342904\n",
      "  (4243, 11415)\t0.04265300938931862\n",
      "  (4243, 7545)\t0.053202747014157864\n",
      "  (4243, 22426)\t0.04959478008035461\n",
      "  (4243, 54007)\t0.05100432396345157\n",
      "  (4243, 7113)\t0.055528486204784254\n",
      "  (4243, 4932)\t0.03711812880176506\n",
      "  (4243, 39497)\t0.04927770384099252\n",
      "  (4243, 50053)\t0.06673585515177109\n",
      "  (4243, 38849)\t0.048120818264389215\n",
      "  (4243, 20702)\t0.04867858477282518\n",
      "  (4243, 42139)\t0.04664685644842381\n",
      "  (4243, 17247)\t0.06113217067827768\n",
      "  (4243, 50052)\t0.05623192165966151\n",
      "  (4243, 55228)\t0.05623192165966151\n",
      "  (4243, 29255)\t0.05372450273788263\n",
      "  (4243, 49435)\t0.04265300938931862\n",
      "  (4243, 11257)\t0.06673585515177109\n",
      "  (4243, 52945)\t0.0644101159611447\n",
      "  (4243, 20905)\t0.05880643148765128\n",
      "  (4243, 7962)\t0.06673585515177109\n"
     ]
    }
   ],
   "source": [
    "Tfidf_vectorizer = TfidfVectorizer(stop_words='english')\n",
    "tfidf_train = Tfidf_vectorizer.fit_transform(x_train)\n",
    "print(tfidf_train)\n",
    "tfidf_test = Tfidf_vectorizer.transform(x_test)"
   ]
  },
  {
   "cell_type": "code",
   "execution_count": 17,
   "id": "c1040892-b5d9-4d93-84ba-6e3e5ff4c1bc",
   "metadata": {},
   "outputs": [
    {
     "data": {
      "text/plain": [
       "56922"
      ]
     },
     "execution_count": 17,
     "metadata": {},
     "output_type": "execute_result"
    }
   ],
   "source": [
    "len(Tfidf_vectorizer.get_feature_names_out())"
   ]
  },
  {
   "cell_type": "code",
   "execution_count": 18,
   "id": "1559d054-daef-4547-8d2a-3eccea04f596",
   "metadata": {},
   "outputs": [
    {
     "name": "stdout",
     "output_type": "stream",
     "text": [
      "[[0. 0. 0. ... 0. 0. 0.]\n",
      " [0. 0. 0. ... 0. 0. 0.]\n",
      " [0. 0. 0. ... 0. 0. 0.]\n",
      " ...\n",
      " [0. 0. 0. ... 0. 0. 0.]\n",
      " [0. 0. 0. ... 0. 0. 0.]\n",
      " [0. 0. 0. ... 0. 0. 0.]]\n"
     ]
    }
   ],
   "source": [
    "print(tfidf_train.toarray())"
   ]
  },
  {
   "cell_type": "markdown",
   "id": "61478522-5000-41bd-aaf1-469cc0b4c9b7",
   "metadata": {},
   "source": [
    "### Train ML models"
   ]
  },
  {
   "cell_type": "code",
   "execution_count": 23,
   "id": "90798739-1bfe-4f1e-b5ad-7e2b7fee7600",
   "metadata": {},
   "outputs": [
    {
     "name": "stdout",
     "output_type": "stream",
     "text": [
      "MultinomialNB Classifier Accuracy: 0.8565279770444764\n",
      "Passive Aggressive Classifier Accuracy: 0.937350549976088\n",
      "Logistic Regressor Accuracy: 0.9134385461501674\n",
      "Random Forest Accuracy: 0.8971783835485414\n"
     ]
    }
   ],
   "source": [
    "# Dictionary to store model results\n",
    "results = {}\n",
    "\n",
    "# Multinomial Naive Bayes\n",
    "MNB_classifier = MultinomialNB()\n",
    "MNB_classifier.fit(tfidf_train, y_train)\n",
    "MNB_pred = MNB_classifier.predict(tfidf_test)\n",
    "MNB_accuracy = metrics.accuracy_score(y_test, MNB_pred)\n",
    "print(f\"MultinomialNB Classifier Accuracy: {MNB_accuracy}\")\n",
    "#confusion matrix\n",
    "cm_logistic = metrics.confusion_matrix(y_test, MNB_pred, labels=['FAKE', 'REAL'])\n",
    "results[\"MultinomialNB\"] = (MNB_accuracy, MNB_classifier)\n",
    "\n",
    "# Passive Aggressive\n",
    "PAC_classifier = PassiveAggressiveClassifier(max_iter=1000, random_state=42)\n",
    "PAC_classifier.fit(tfidf_train, y_train)\n",
    "PAC_pred = PAC_classifier.predict(tfidf_test)\n",
    "PAC_accuracy = metrics.accuracy_score(y_test, PAC_pred)\n",
    "print(f\"Passive Aggressive Classifier Accuracy: {PAC_accuracy}\")\n",
    "#confusion matrix\n",
    "cm_logistic = metrics.confusion_matrix(y_test, PAC_pred, labels=['FAKE', 'REAL'])\n",
    "results[\"PassiveAggressive\"] = (PAC_accuracy, PAC_classifier)\n",
    "\n",
    "# Logistic Regression\n",
    "logisticReg_classifier = LogisticRegression()\n",
    "logisticReg_classifier.fit(tfidf_train, y_train)\n",
    "logistic_pred = logisticReg_classifier.predict(tfidf_test)\n",
    "logistic_accuracy = metrics.accuracy_score(y_test, logistic_pred)\n",
    "print(f\"Logistic Regressor Accuracy: {logistic_accuracy}\")\n",
    "#confusion matrix\n",
    "cm_logistic = metrics.confusion_matrix(y_test, logistic_pred, labels=['FAKE', 'REAL'])\n",
    "results[\"LogisticRegression\"] = (logistic_accuracy, logisticReg_classifier)\n",
    "\n",
    "# Random Forest\n",
    "random_classifier = RandomForestClassifier(n_estimators=100, random_state=42)\n",
    "random_classifier.fit(tfidf_train, y_train)\n",
    "random_pred = random_classifier.predict(tfidf_test)\n",
    "random_accuracy = metrics.accuracy_score(y_test, random_pred)\n",
    "print(f\"Random Forest Accuracy: {random_accuracy}\")\n",
    "#confusion matrix\n",
    "cm_logistic = metrics.confusion_matrix(y_test, random_pred, labels=['FAKE', 'REAL'])\n",
    "results[\"RandomForest\"] = (random_accuracy, random_classifier)\n"
   ]
  },
  {
   "cell_type": "markdown",
   "id": "d324ecde-5bae-4fe4-8148-80662339cf24",
   "metadata": {},
   "source": [
    "### Classification Report"
   ]
  },
  {
   "cell_type": "code",
   "execution_count": 25,
   "id": "ca2ab12e-7158-4ade-b642-a6942be14262",
   "metadata": {},
   "outputs": [
    {
     "name": "stdout",
     "output_type": "stream",
     "text": [
      "MultipolynomialNB classification report\n",
      "***************************************\n",
      "              precision    recall  f1-score   support\n",
      "\n",
      "        FAKE       0.96      0.73      0.83      1008\n",
      "        REAL       0.80      0.97      0.88      1083\n",
      "\n",
      "    accuracy                           0.86      2091\n",
      "   macro avg       0.88      0.85      0.85      2091\n",
      "weighted avg       0.88      0.86      0.85      2091\n",
      "\n",
      "Passive Aggressive Classifier classification report\n",
      "***************************************************\n",
      "              precision    recall  f1-score   support\n",
      "\n",
      "        FAKE       0.92      0.95      0.94      1008\n",
      "        REAL       0.95      0.93      0.94      1083\n",
      "\n",
      "    accuracy                           0.94      2091\n",
      "   macro avg       0.94      0.94      0.94      2091\n",
      "weighted avg       0.94      0.94      0.94      2091\n",
      "\n",
      "Logistic Regressor classification report\n",
      "****************************************\n",
      "              precision    recall  f1-score   support\n",
      "\n",
      "        FAKE       0.88      0.95      0.91      1008\n",
      "        REAL       0.95      0.88      0.91      1083\n",
      "\n",
      "    accuracy                           0.91      2091\n",
      "   macro avg       0.92      0.91      0.91      2091\n",
      "weighted avg       0.92      0.91      0.91      2091\n",
      "\n",
      "Random Forest classification report\n",
      "****************************************\n",
      "              precision    recall  f1-score   support\n",
      "\n",
      "        FAKE       0.88      0.91      0.89      1008\n",
      "        REAL       0.91      0.89      0.90      1083\n",
      "\n",
      "    accuracy                           0.90      2091\n",
      "   macro avg       0.90      0.90      0.90      2091\n",
      "weighted avg       0.90      0.90      0.90      2091\n",
      "\n"
     ]
    }
   ],
   "source": [
    "#classification report for MultipolynomialNB\n",
    "from sklearn.metrics import classification_report\n",
    "print(\"MultipolynomialNB classification report\")\n",
    "print(\"***************************************\")\n",
    "MNB_report=classification_report(y_test, MNB_pred)\n",
    "print(MNB_report)\n",
    "\n",
    "#classification report for Passive Aggressive Classifier\n",
    "from sklearn.metrics import classification_report\n",
    "print(\"Passive Aggressive Classifier classification report\")\n",
    "print(\"***************************************************\")\n",
    "PAC_report=classification_report(y_test, PAC_pred)\n",
    "print(PAC_report)\n",
    "\n",
    "#classification report for Logistic classification\n",
    "from sklearn.metrics import classification_report\n",
    "print(\"Logistic Regressor classification report\")\n",
    "print(\"****************************************\")\n",
    "logistic_report=classification_report(y_test, logistic_pred)\n",
    "print(logistic_report)\n",
    "\n",
    "#classification report for Random Forest classification\n",
    "from sklearn.metrics import classification_report\n",
    "print(\"Random Forest classification report\")\n",
    "print(\"****************************************\")\n",
    "random_report=classification_report(y_test, random_pred)\n",
    "print(random_report)"
   ]
  },
  {
   "cell_type": "code",
   "execution_count": 26,
   "id": "047a9397-66b0-4565-b162-a5fcd7db4a55",
   "metadata": {},
   "outputs": [
    {
     "name": "stdout",
     "output_type": "stream",
     "text": [
      "Best Model: PassiveAggressive with accuracy 0.937\n"
     ]
    }
   ],
   "source": [
    "best_model_name = max(results, key=lambda k: results[k][0])\n",
    "best_accuracy, best_model = results[best_model_name]\n",
    "\n",
    "print(f\"Best Model: {best_model_name} with accuracy {best_accuracy:.3f}\")"
   ]
  },
  {
   "cell_type": "code",
   "execution_count": 30,
   "id": "2e5f1aee-9a23-4091-80d8-7dd636a2024c",
   "metadata": {},
   "outputs": [
    {
     "data": {
      "text/plain": [
       "(0.937350549976088, PassiveAggressiveClassifier(random_state=42))"
      ]
     },
     "execution_count": 30,
     "metadata": {},
     "output_type": "execute_result"
    }
   ],
   "source": [
    "results[best_model_name]"
   ]
  },
  {
   "cell_type": "markdown",
   "id": "74174704-7aef-4e4b-b93e-a00050649563",
   "metadata": {},
   "source": [
    "### Save the best Model"
   ]
  },
  {
   "cell_type": "code",
   "execution_count": 33,
   "id": "6f35cc8a-7a7c-43a0-a20a-3f303756c4cc",
   "metadata": {},
   "outputs": [
    {
     "name": "stdout",
     "output_type": "stream",
     "text": [
      "Saved PassiveAggressive to disk.\n"
     ]
    }
   ],
   "source": [
    "joblib.dump(best_model, \"TF-IDF_bestmodel.pkl\")\n",
    "print(f\"Saved {best_model_name} to disk.\")"
   ]
  },
  {
   "cell_type": "markdown",
   "id": "9dbd2a98-ef52-4b23-b861-95aaa8e10873",
   "metadata": {},
   "source": [
    "### Load the saved best model"
   ]
  },
  {
   "cell_type": "code",
   "execution_count": 36,
   "id": "dcc6fd0b-f242-4257-8507-8969788ebaf4",
   "metadata": {},
   "outputs": [],
   "source": [
    "loaded_model = joblib.load(\"bestmodel.pkl\")\n",
    "predictions = loaded_model.predict(tfidf_train[[0]])"
   ]
  },
  {
   "cell_type": "code",
   "execution_count": 38,
   "id": "f251deeb-099e-47d9-bcca-cf37c389140e",
   "metadata": {},
   "outputs": [
    {
     "data": {
      "text/plain": [
       "'Daniel Greenfield, a Shillman Journalism Fellow at the Freedom Center, is a New York writer focusing on radical Islam. \\nIn the final stretch of the election, Hillary Rodham Clinton has gone to war with the FBI. \\nThe word “unprecedented” has been thrown around so often this election that it ought to be retired. But it’s still unprecedented for the nominee of a major political party to go war with the FBI. \\nBut that’s exactly what Hillary and her people have done. Coma patients just waking up now and watching an hour of CNN from their hospital beds would assume that FBI Director James Comey is Hillary’s opponent in this election. \\nThe FBI is under attack by everyone from Obama to CNN. Hillary’s people have circulated a letter attacking Comey. There are currently more media hit pieces lambasting him than targeting Trump. It wouldn’t be too surprising if the Clintons or their allies were to start running attack ads against the FBI. \\nThe FBI’s leadership is being warned that the entire left-wing establishment will form a lynch mob if they continue going after Hillary. And the FBI’s credibility is being attacked by the media and the Democrats to preemptively head off the results of the investigation of the Clinton Foundation and Hillary Clinton. \\nThe covert struggle between FBI agents and Obama’s DOJ people has gone explosively public. \\nThe New York Times has compared Comey to J. Edgar Hoover. Its bizarre headline, “James Comey Role Recalls Hoover’s FBI, Fairly or Not” practically admits up front that it’s spouting nonsense. The Boston Globe has published a column calling for Comey’s resignation. Not to be outdone, Time has an editorial claiming that the scandal is really an attack on all women. \\nJames Carville appeared on MSNBC to remind everyone that he was still alive and insane. He accused Comey of coordinating with House Republicans and the KGB. And you thought the “vast right wing conspiracy” was a stretch. \\nCountless media stories charge Comey with violating procedure. Do you know what’s a procedural violation? Emailing classified information stored on your bathroom server. \\nSenator Harry Reid has sent Comey a letter accusing him of violating the Hatch Act. The Hatch Act is a nice idea that has as much relevance in the age of Obama as the Tenth Amendment. But the cable news spectrum quickly filled with media hacks glancing at the Wikipedia article on the Hatch Act under the table while accusing the FBI director of one of the most awkward conspiracies against Hillary ever. \\nIf James Comey is really out to hurt Hillary, he picked one hell of a strange way to do it. \\nNot too long ago Democrats were breathing a sigh of relief when he gave Hillary Clinton a pass in a prominent public statement. If he really were out to elect Trump by keeping the email scandal going, why did he trash the investigation? Was he on the payroll of House Republicans and the KGB back then and playing it coy or was it a sudden development where Vladimir Putin and Paul Ryan talked him into taking a look at Anthony Weiner’s computer? \\nEither Comey is the most cunning FBI director that ever lived or he’s just awkwardly trying to navigate a political mess that has trapped him between a DOJ leadership whose political futures are tied to Hillary’s victory and his own bureau whose apolitical agents just want to be allowed to do their jobs. \\nThe only truly mysterious thing is why Hillary and her associates decided to go to war with a respected Federal agency. Most Americans like the FBI while Hillary Clinton enjoys a 60% unfavorable rating. \\nAnd it’s an interesting question. \\nHillary’s old strategy was to lie and deny that the FBI even had a criminal investigation underway. Instead her associates insisted that it was a security review. The FBI corrected her and she shrugged it off. But the old breezy denial approach has given way to a savage assault on the FBI. \\nPretending that nothing was wrong was a bad strategy, but it was a better one that picking a fight with the FBI while lunatic Clinton associates try to claim that the FBI is really the KGB. \\nThere are two possible explanations. \\nHillary Clinton might be arrogant enough to lash out at the FBI now that she believes that victory is near. The same kind of hubris that led her to plan her victory fireworks display could lead her to declare a war on the FBI for irritating her during the final miles of her campaign. \\nBut the other explanation is that her people panicked. \\nGoing to war with the FBI is not the behavior of a smart and focused presidential campaign. It’s an act of desperation. When a presidential candidate decides that her only option is to try and destroy the credibility of the FBI, that’s not hubris, it’s fear of what the FBI might be about to reveal about her. \\nDuring the original FBI investigation, Hillary Clinton was confident that she could ride it out. And she had good reason for believing that. But that Hillary Clinton is gone. In her place is a paranoid wreck. Within a short space of time the “positive” Clinton campaign promising to unite the country has been replaced by a desperate and flailing operation that has focused all its energy on fighting the FBI. \\nThere’s only one reason for such bizarre behavior. \\nThe Clinton campaign has decided that an FBI investigation of the latest batch of emails poses a threat to its survival. And so it’s gone all in on fighting the FBI. It’s an unprecedented step born of fear. It’s hard to know whether that fear is justified. But the existence of that fear already tells us a whole lot. \\nClinton loyalists rigged the old investigation. They knew the outcome ahead of time as well as they knew the debate questions. Now suddenly they are no longer in control. And they are afraid. \\nYou can smell the fear. \\nThe FBI has wiretaps from the investigation of the Clinton Foundation. It’s finding new emails all the time. And Clintonworld panicked. The spinmeisters of Clintonworld have claimed that the email scandal is just so much smoke without fire. All that’s here is the appearance of impropriety without any of the substance. But this isn’t how you react to smoke. It’s how you respond to a fire. \\nThe misguided assault on the FBI tells us that Hillary Clinton and her allies are afraid of a revelation bigger than the fundamental illegality of her email setup. The email setup was a preemptive cover up. The Clinton campaign has panicked badly out of the belief, right or wrong, that whatever crime the illegal setup was meant to cover up is at risk of being exposed. \\nThe Clintons have weathered countless scandals over the years. Whatever they are protecting this time around is bigger than the usual corruption, bribery, sexual assaults and abuses of power that have followed them around throughout the years. This is bigger and more damaging than any of the allegations that have already come out. And they don’t want FBI investigators anywhere near it. \\nThe campaign against Comey is pure intimidation. It’s also a warning. Any senior FBI people who value their careers are being warned to stay away. The Democrats are closing ranks around their nominee against the FBI. It’s an ugly and unprecedented scene. It may also be their last stand. \\nHillary Clinton has awkwardly wound her way through numerous scandals in just this election cycle. But she’s never shown fear or desperation before. Now that has changed. Whatever she is afraid of, it lies buried in her emails with Huma Abedin. And it can bring her down like nothing else has.  '"
      ]
     },
     "execution_count": 38,
     "metadata": {},
     "output_type": "execute_result"
    }
   ],
   "source": [
    "dataset[\"text\"][0]"
   ]
  },
  {
   "cell_type": "code",
   "execution_count": 40,
   "id": "307d1f7e-f2e4-4dc7-a6af-0db00c7eeb06",
   "metadata": {},
   "outputs": [
    {
     "data": {
      "text/plain": [
       "array(['FAKE'], dtype='<U4')"
      ]
     },
     "execution_count": 40,
     "metadata": {},
     "output_type": "execute_result"
    }
   ],
   "source": [
    "predictions"
   ]
  },
  {
   "cell_type": "code",
   "execution_count": null,
   "id": "1ed0e384-80dd-42b2-820a-c3ec24264605",
   "metadata": {},
   "outputs": [],
   "source": []
  },
  {
   "cell_type": "code",
   "execution_count": null,
   "id": "577717e7-9597-4849-8f36-bafd671f6235",
   "metadata": {},
   "outputs": [],
   "source": []
  }
 ],
 "metadata": {
  "kernelspec": {
   "display_name": "Python [conda env:base] *",
   "language": "python",
   "name": "conda-base-py"
  },
  "language_info": {
   "codemirror_mode": {
    "name": "ipython",
    "version": 3
   },
   "file_extension": ".py",
   "mimetype": "text/x-python",
   "name": "python",
   "nbconvert_exporter": "python",
   "pygments_lexer": "ipython3",
   "version": "3.12.7"
  }
 },
 "nbformat": 4,
 "nbformat_minor": 5
}
