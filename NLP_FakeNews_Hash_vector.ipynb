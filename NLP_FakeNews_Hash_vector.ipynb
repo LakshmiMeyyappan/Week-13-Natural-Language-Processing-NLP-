{
 "cells": [
  {
   "cell_type": "code",
   "execution_count": 1,
   "id": "a60039f9-b8d5-4d28-9f40-aba3bbd88610",
   "metadata": {},
   "outputs": [],
   "source": [
    "import pandas as pd\n",
    "import numpy as np\n",
    "import joblib \n",
    "\n",
    "from sklearn.feature_extraction.text import CountVectorizer, TfidfVectorizer, HashingVectorizer\n",
    "from sklearn.model_selection import train_test_split\n",
    "from sklearn.linear_model import PassiveAggressiveClassifier,LogisticRegression\n",
    "from sklearn.svm import SVC\n",
    "from sklearn.ensemble import RandomForestClassifier\n",
    "from sklearn.naive_bayes import MultinomialNB\n",
    "from sklearn import metrics\n"
   ]
  },
  {
   "cell_type": "code",
   "execution_count": 3,
   "id": "ceb4145d-761b-4a94-9184-95954588c1bc",
   "metadata": {},
   "outputs": [],
   "source": [
    "df=pd.read_csv('news.csv', index_col=None)"
   ]
  },
  {
   "cell_type": "code",
   "execution_count": 5,
   "id": "ca4e54dc-fd26-4c8b-8919-206d6a6f1a60",
   "metadata": {},
   "outputs": [
    {
     "data": {
      "text/html": [
       "<div>\n",
       "<style scoped>\n",
       "    .dataframe tbody tr th:only-of-type {\n",
       "        vertical-align: middle;\n",
       "    }\n",
       "\n",
       "    .dataframe tbody tr th {\n",
       "        vertical-align: top;\n",
       "    }\n",
       "\n",
       "    .dataframe thead th {\n",
       "        text-align: right;\n",
       "    }\n",
       "</style>\n",
       "<table border=\"1\" class=\"dataframe\">\n",
       "  <thead>\n",
       "    <tr style=\"text-align: right;\">\n",
       "      <th></th>\n",
       "      <th>Unnamed: 0</th>\n",
       "      <th>title</th>\n",
       "      <th>text</th>\n",
       "      <th>label</th>\n",
       "    </tr>\n",
       "  </thead>\n",
       "  <tbody>\n",
       "    <tr>\n",
       "      <th>0</th>\n",
       "      <td>8476</td>\n",
       "      <td>You Can Smell Hillary’s Fear</td>\n",
       "      <td>Daniel Greenfield, a Shillman Journalism Fello...</td>\n",
       "      <td>FAKE</td>\n",
       "    </tr>\n",
       "    <tr>\n",
       "      <th>1</th>\n",
       "      <td>10294</td>\n",
       "      <td>Watch The Exact Moment Paul Ryan Committed Pol...</td>\n",
       "      <td>Google Pinterest Digg Linkedin Reddit Stumbleu...</td>\n",
       "      <td>FAKE</td>\n",
       "    </tr>\n",
       "    <tr>\n",
       "      <th>2</th>\n",
       "      <td>3608</td>\n",
       "      <td>Kerry to go to Paris in gesture of sympathy</td>\n",
       "      <td>U.S. Secretary of State John F. Kerry said Mon...</td>\n",
       "      <td>REAL</td>\n",
       "    </tr>\n",
       "    <tr>\n",
       "      <th>3</th>\n",
       "      <td>10142</td>\n",
       "      <td>Bernie supporters on Twitter erupt in anger ag...</td>\n",
       "      <td>— Kaydee King (@KaydeeKing) November 9, 2016 T...</td>\n",
       "      <td>FAKE</td>\n",
       "    </tr>\n",
       "    <tr>\n",
       "      <th>4</th>\n",
       "      <td>875</td>\n",
       "      <td>The Battle of New York: Why This Primary Matters</td>\n",
       "      <td>It's primary day in New York and front-runners...</td>\n",
       "      <td>REAL</td>\n",
       "    </tr>\n",
       "    <tr>\n",
       "      <th>...</th>\n",
       "      <td>...</td>\n",
       "      <td>...</td>\n",
       "      <td>...</td>\n",
       "      <td>...</td>\n",
       "    </tr>\n",
       "    <tr>\n",
       "      <th>6330</th>\n",
       "      <td>4490</td>\n",
       "      <td>State Department says it can't find emails fro...</td>\n",
       "      <td>The State Department told the Republican Natio...</td>\n",
       "      <td>REAL</td>\n",
       "    </tr>\n",
       "    <tr>\n",
       "      <th>6331</th>\n",
       "      <td>8062</td>\n",
       "      <td>The ‘P’ in PBS Should Stand for ‘Plutocratic’ ...</td>\n",
       "      <td>The ‘P’ in PBS Should Stand for ‘Plutocratic’ ...</td>\n",
       "      <td>FAKE</td>\n",
       "    </tr>\n",
       "    <tr>\n",
       "      <th>6332</th>\n",
       "      <td>8622</td>\n",
       "      <td>Anti-Trump Protesters Are Tools of the Oligarc...</td>\n",
       "      <td>Anti-Trump Protesters Are Tools of the Oligar...</td>\n",
       "      <td>FAKE</td>\n",
       "    </tr>\n",
       "    <tr>\n",
       "      <th>6333</th>\n",
       "      <td>4021</td>\n",
       "      <td>In Ethiopia, Obama seeks progress on peace, se...</td>\n",
       "      <td>ADDIS ABABA, Ethiopia —President Obama convene...</td>\n",
       "      <td>REAL</td>\n",
       "    </tr>\n",
       "    <tr>\n",
       "      <th>6334</th>\n",
       "      <td>4330</td>\n",
       "      <td>Jeb Bush Is Suddenly Attacking Trump. Here's W...</td>\n",
       "      <td>Jeb Bush Is Suddenly Attacking Trump. Here's W...</td>\n",
       "      <td>REAL</td>\n",
       "    </tr>\n",
       "  </tbody>\n",
       "</table>\n",
       "<p>6335 rows × 4 columns</p>\n",
       "</div>"
      ],
      "text/plain": [
       "      Unnamed: 0                                              title  \\\n",
       "0           8476                       You Can Smell Hillary’s Fear   \n",
       "1          10294  Watch The Exact Moment Paul Ryan Committed Pol...   \n",
       "2           3608        Kerry to go to Paris in gesture of sympathy   \n",
       "3          10142  Bernie supporters on Twitter erupt in anger ag...   \n",
       "4            875   The Battle of New York: Why This Primary Matters   \n",
       "...          ...                                                ...   \n",
       "6330        4490  State Department says it can't find emails fro...   \n",
       "6331        8062  The ‘P’ in PBS Should Stand for ‘Plutocratic’ ...   \n",
       "6332        8622  Anti-Trump Protesters Are Tools of the Oligarc...   \n",
       "6333        4021  In Ethiopia, Obama seeks progress on peace, se...   \n",
       "6334        4330  Jeb Bush Is Suddenly Attacking Trump. Here's W...   \n",
       "\n",
       "                                                   text label  \n",
       "0     Daniel Greenfield, a Shillman Journalism Fello...  FAKE  \n",
       "1     Google Pinterest Digg Linkedin Reddit Stumbleu...  FAKE  \n",
       "2     U.S. Secretary of State John F. Kerry said Mon...  REAL  \n",
       "3     — Kaydee King (@KaydeeKing) November 9, 2016 T...  FAKE  \n",
       "4     It's primary day in New York and front-runners...  REAL  \n",
       "...                                                 ...   ...  \n",
       "6330  The State Department told the Republican Natio...  REAL  \n",
       "6331  The ‘P’ in PBS Should Stand for ‘Plutocratic’ ...  FAKE  \n",
       "6332   Anti-Trump Protesters Are Tools of the Oligar...  FAKE  \n",
       "6333  ADDIS ABABA, Ethiopia —President Obama convene...  REAL  \n",
       "6334  Jeb Bush Is Suddenly Attacking Trump. Here's W...  REAL  \n",
       "\n",
       "[6335 rows x 4 columns]"
      ]
     },
     "execution_count": 5,
     "metadata": {},
     "output_type": "execute_result"
    }
   ],
   "source": [
    "df"
   ]
  },
  {
   "cell_type": "code",
   "execution_count": 7,
   "id": "415cc137-d860-44eb-af97-7d5150b2b72e",
   "metadata": {},
   "outputs": [],
   "source": [
    "dataset = df.drop('Unnamed: 0',axis=1)"
   ]
  },
  {
   "cell_type": "code",
   "execution_count": 9,
   "id": "b713c9c1-61a1-4ca2-8a05-60b05de1c086",
   "metadata": {},
   "outputs": [
    {
     "data": {
      "text/html": [
       "<div>\n",
       "<style scoped>\n",
       "    .dataframe tbody tr th:only-of-type {\n",
       "        vertical-align: middle;\n",
       "    }\n",
       "\n",
       "    .dataframe tbody tr th {\n",
       "        vertical-align: top;\n",
       "    }\n",
       "\n",
       "    .dataframe thead th {\n",
       "        text-align: right;\n",
       "    }\n",
       "</style>\n",
       "<table border=\"1\" class=\"dataframe\">\n",
       "  <thead>\n",
       "    <tr style=\"text-align: right;\">\n",
       "      <th></th>\n",
       "      <th>title</th>\n",
       "      <th>text</th>\n",
       "      <th>label</th>\n",
       "    </tr>\n",
       "  </thead>\n",
       "  <tbody>\n",
       "    <tr>\n",
       "      <th>0</th>\n",
       "      <td>You Can Smell Hillary’s Fear</td>\n",
       "      <td>Daniel Greenfield, a Shillman Journalism Fello...</td>\n",
       "      <td>FAKE</td>\n",
       "    </tr>\n",
       "    <tr>\n",
       "      <th>1</th>\n",
       "      <td>Watch The Exact Moment Paul Ryan Committed Pol...</td>\n",
       "      <td>Google Pinterest Digg Linkedin Reddit Stumbleu...</td>\n",
       "      <td>FAKE</td>\n",
       "    </tr>\n",
       "    <tr>\n",
       "      <th>2</th>\n",
       "      <td>Kerry to go to Paris in gesture of sympathy</td>\n",
       "      <td>U.S. Secretary of State John F. Kerry said Mon...</td>\n",
       "      <td>REAL</td>\n",
       "    </tr>\n",
       "    <tr>\n",
       "      <th>3</th>\n",
       "      <td>Bernie supporters on Twitter erupt in anger ag...</td>\n",
       "      <td>— Kaydee King (@KaydeeKing) November 9, 2016 T...</td>\n",
       "      <td>FAKE</td>\n",
       "    </tr>\n",
       "    <tr>\n",
       "      <th>4</th>\n",
       "      <td>The Battle of New York: Why This Primary Matters</td>\n",
       "      <td>It's primary day in New York and front-runners...</td>\n",
       "      <td>REAL</td>\n",
       "    </tr>\n",
       "    <tr>\n",
       "      <th>...</th>\n",
       "      <td>...</td>\n",
       "      <td>...</td>\n",
       "      <td>...</td>\n",
       "    </tr>\n",
       "    <tr>\n",
       "      <th>6330</th>\n",
       "      <td>State Department says it can't find emails fro...</td>\n",
       "      <td>The State Department told the Republican Natio...</td>\n",
       "      <td>REAL</td>\n",
       "    </tr>\n",
       "    <tr>\n",
       "      <th>6331</th>\n",
       "      <td>The ‘P’ in PBS Should Stand for ‘Plutocratic’ ...</td>\n",
       "      <td>The ‘P’ in PBS Should Stand for ‘Plutocratic’ ...</td>\n",
       "      <td>FAKE</td>\n",
       "    </tr>\n",
       "    <tr>\n",
       "      <th>6332</th>\n",
       "      <td>Anti-Trump Protesters Are Tools of the Oligarc...</td>\n",
       "      <td>Anti-Trump Protesters Are Tools of the Oligar...</td>\n",
       "      <td>FAKE</td>\n",
       "    </tr>\n",
       "    <tr>\n",
       "      <th>6333</th>\n",
       "      <td>In Ethiopia, Obama seeks progress on peace, se...</td>\n",
       "      <td>ADDIS ABABA, Ethiopia —President Obama convene...</td>\n",
       "      <td>REAL</td>\n",
       "    </tr>\n",
       "    <tr>\n",
       "      <th>6334</th>\n",
       "      <td>Jeb Bush Is Suddenly Attacking Trump. Here's W...</td>\n",
       "      <td>Jeb Bush Is Suddenly Attacking Trump. Here's W...</td>\n",
       "      <td>REAL</td>\n",
       "    </tr>\n",
       "  </tbody>\n",
       "</table>\n",
       "<p>6335 rows × 3 columns</p>\n",
       "</div>"
      ],
      "text/plain": [
       "                                                  title  \\\n",
       "0                          You Can Smell Hillary’s Fear   \n",
       "1     Watch The Exact Moment Paul Ryan Committed Pol...   \n",
       "2           Kerry to go to Paris in gesture of sympathy   \n",
       "3     Bernie supporters on Twitter erupt in anger ag...   \n",
       "4      The Battle of New York: Why This Primary Matters   \n",
       "...                                                 ...   \n",
       "6330  State Department says it can't find emails fro...   \n",
       "6331  The ‘P’ in PBS Should Stand for ‘Plutocratic’ ...   \n",
       "6332  Anti-Trump Protesters Are Tools of the Oligarc...   \n",
       "6333  In Ethiopia, Obama seeks progress on peace, se...   \n",
       "6334  Jeb Bush Is Suddenly Attacking Trump. Here's W...   \n",
       "\n",
       "                                                   text label  \n",
       "0     Daniel Greenfield, a Shillman Journalism Fello...  FAKE  \n",
       "1     Google Pinterest Digg Linkedin Reddit Stumbleu...  FAKE  \n",
       "2     U.S. Secretary of State John F. Kerry said Mon...  REAL  \n",
       "3     — Kaydee King (@KaydeeKing) November 9, 2016 T...  FAKE  \n",
       "4     It's primary day in New York and front-runners...  REAL  \n",
       "...                                                 ...   ...  \n",
       "6330  The State Department told the Republican Natio...  REAL  \n",
       "6331  The ‘P’ in PBS Should Stand for ‘Plutocratic’ ...  FAKE  \n",
       "6332   Anti-Trump Protesters Are Tools of the Oligar...  FAKE  \n",
       "6333  ADDIS ABABA, Ethiopia —President Obama convene...  REAL  \n",
       "6334  Jeb Bush Is Suddenly Attacking Trump. Here's W...  REAL  \n",
       "\n",
       "[6335 rows x 3 columns]"
      ]
     },
     "execution_count": 9,
     "metadata": {},
     "output_type": "execute_result"
    }
   ],
   "source": [
    "dataset"
   ]
  },
  {
   "cell_type": "code",
   "execution_count": 11,
   "id": "cdc2b9d3-1d68-454d-9da9-c7f28a22ef6a",
   "metadata": {},
   "outputs": [],
   "source": [
    "y=dataset[\"label\"]"
   ]
  },
  {
   "cell_type": "code",
   "execution_count": 13,
   "id": "ec439203-e822-40ed-89e3-99b47d4ab44f",
   "metadata": {},
   "outputs": [],
   "source": [
    "x_train, x_test, y_train, y_test = train_test_split(dataset['text'], y, test_size=0.33, random_state=53)"
   ]
  },
  {
   "cell_type": "markdown",
   "id": "873b832e-b730-4f9a-b3f1-185b8e25854d",
   "metadata": {},
   "source": [
    "### Hash Vector"
   ]
  },
  {
   "cell_type": "code",
   "execution_count": 16,
   "id": "3d7409ca-3da4-43c0-bedf-54c62cf82ef2",
   "metadata": {},
   "outputs": [
    {
     "name": "stdout",
     "output_type": "stream",
     "text": [
      "  (1, 2)\t0.15476464650682736\n",
      "  (1, 45)\t0.07738232325341368\n",
      "  (1, 61)\t0.15476464650682736\n",
      "  (1, 70)\t0.07738232325341368\n",
      "  (1, 286)\t0.07738232325341368\n",
      "  (1, 323)\t0.07738232325341368\n",
      "  (1, 345)\t0.07738232325341368\n",
      "  (1, 410)\t0.07738232325341368\n",
      "  (1, 462)\t0.07738232325341368\n",
      "  (1, 510)\t0.15476464650682736\n",
      "  (1, 579)\t0.15476464650682736\n",
      "  (1, 689)\t0.3095292930136547\n",
      "  (1, 752)\t0.07738232325341368\n",
      "  (1, 797)\t0.07738232325341368\n",
      "  (1, 898)\t0.15476464650682736\n",
      "  (1, 953)\t0.07738232325341368\n",
      "  (1, 958)\t0.5416762627738958\n",
      "  (1, 976)\t0.15476464650682736\n",
      "  (1, 982)\t0.07738232325341368\n",
      "  (1, 1048)\t0.15476464650682736\n",
      "  (1, 1075)\t0.15476464650682736\n",
      "  (1, 1082)\t0.07738232325341368\n",
      "  (1, 1111)\t0.07738232325341368\n",
      "  (1, 1196)\t0.15476464650682736\n",
      "  (1, 1197)\t0.3095292930136547\n",
      "  :\t:\n",
      "  (4243, 1799)\t0.014723405481714223\n",
      "  (4243, 1810)\t0.014723405481714223\n",
      "  (4243, 1811)\t0.014723405481714223\n",
      "  (4243, 1812)\t0.04417021644514267\n",
      "  (4243, 1820)\t0.014723405481714223\n",
      "  (4243, 1828)\t0.014723405481714223\n",
      "  (4243, 1851)\t0.029446810963428445\n",
      "  (4243, 1857)\t0.014723405481714223\n",
      "  (4243, 1866)\t0.05889362192685689\n",
      "  (4243, 1869)\t0.014723405481714223\n",
      "  (4243, 1871)\t0.014723405481714223\n",
      "  (4243, 1916)\t0.014723405481714223\n",
      "  (4243, 1918)\t0.029446810963428445\n",
      "  (4243, 1925)\t0.014723405481714223\n",
      "  (4243, 1926)\t0.029446810963428445\n",
      "  (4243, 1931)\t0.029446810963428445\n",
      "  (4243, 1932)\t0.08834043289028534\n",
      "  (4243, 1961)\t0.04417021644514267\n",
      "  (4243, 1965)\t0.029446810963428445\n",
      "  (4243, 1971)\t0.014723405481714223\n",
      "  (4243, 1972)\t0.029446810963428445\n",
      "  (4243, 1981)\t0.07361702740857111\n",
      "  (4243, 1988)\t0.11778724385371378\n",
      "  (4243, 1993)\t0.014723405481714223\n",
      "  (4243, 1995)\t0.07361702740857111\n"
     ]
    }
   ],
   "source": [
    "hash_vectorizer = HashingVectorizer(n_features = 2000,alternate_sign=False)  # Only positive counts\n",
    "hash_train = hash_vectorizer.fit_transform(x_train)\n",
    "print(hash_train)\n",
    "hash_test = hash_vectorizer.transform(x_test)"
   ]
  },
  {
   "cell_type": "code",
   "execution_count": 17,
   "id": "1559d054-daef-4547-8d2a-3eccea04f596",
   "metadata": {},
   "outputs": [
    {
     "name": "stdout",
     "output_type": "stream",
     "text": [
      "[[0.         0.         0.         ... 0.         0.         0.        ]\n",
      " [0.         0.         0.15476465 ... 0.         0.         0.        ]\n",
      " [0.         0.         0.         ... 0.         0.         0.        ]\n",
      " ...\n",
      " [0.         0.         0.         ... 0.         0.         0.        ]\n",
      " [0.         0.         0.         ... 0.02534286 0.         0.        ]\n",
      " [0.         0.         0.         ... 0.         0.         0.        ]]\n"
     ]
    }
   ],
   "source": [
    "print(hash_train.toarray())"
   ]
  },
  {
   "cell_type": "markdown",
   "id": "2d742252-b0be-488f-a5f7-3761d1a2fdba",
   "metadata": {},
   "source": [
    "### Train ML models"
   ]
  },
  {
   "cell_type": "code",
   "execution_count": 21,
   "id": "90798739-1bfe-4f1e-b5ad-7e2b7fee7600",
   "metadata": {
    "scrolled": true
   },
   "outputs": [
    {
     "name": "stdout",
     "output_type": "stream",
     "text": [
      "MultinomialNB Classifier Accuracy: 0.8699186991869918\n",
      "Passive Aggressive Classifier Accuracy: 0.8919177427068389\n",
      "Logistic Regressor Accuracy: 0.8775705404112865\n",
      "Random Forest Accuracy: 0.8718316594930655\n",
      "SVM Accuracy: 0.8718316594930655\n"
     ]
    }
   ],
   "source": [
    "# Dictionary to store model results\n",
    "results = {}\n",
    "\n",
    "# Multinomial Naive Bayes\n",
    "MNB_classifier = MultinomialNB()\n",
    "MNB_classifier.fit(hash_train, y_train)\n",
    "MNB_pred = MNB_classifier.predict(hash_test)\n",
    "MNB_accuracy = metrics.accuracy_score(y_test, MNB_pred)\n",
    "print(f\"MultinomialNB Classifier Accuracy: {MNB_accuracy}\")\n",
    "#confusion matrix\n",
    "cm_logistic = metrics.confusion_matrix(y_test, MNB_pred, labels=['FAKE', 'REAL'])\n",
    "results[\"MultinomialNB\"] = (MNB_accuracy, MNB_classifier)\n",
    "\n",
    "# Passive Aggressive\n",
    "PAC_classifier = PassiveAggressiveClassifier(max_iter=1000, random_state=42)\n",
    "PAC_classifier.fit(hash_train, y_train)\n",
    "PAC_pred = PAC_classifier.predict(hash_test)\n",
    "PAC_accuracy = metrics.accuracy_score(y_test, PAC_pred)\n",
    "print(f\"Passive Aggressive Classifier Accuracy: {PAC_accuracy}\")\n",
    "#confusion matrix\n",
    "cm_logistic = metrics.confusion_matrix(y_test, PAC_pred, labels=['FAKE', 'REAL'])\n",
    "results[\"PassiveAggressive\"] = (PAC_accuracy, PAC_classifier)\n",
    "\n",
    "# Logistic Regression\n",
    "logisticReg_classifier = LogisticRegression()\n",
    "logisticReg_classifier.fit(hash_train, y_train)\n",
    "logistic_pred = logisticReg_classifier.predict(hash_test)\n",
    "logistic_accuracy = metrics.accuracy_score(y_test, logistic_pred)\n",
    "print(f\"Logistic Regressor Accuracy: {logistic_accuracy}\")\n",
    "#confusion matrix\n",
    "cm_logistic = metrics.confusion_matrix(y_test, logistic_pred, labels=['FAKE', 'REAL'])\n",
    "results[\"LogisticRegression\"] = (logistic_accuracy, logisticReg_classifier)\n",
    "\n",
    "# Random Forest\n",
    "random_classifier = RandomForestClassifier(n_estimators=100, random_state=42)\n",
    "random_classifier.fit(hash_train, y_train)\n",
    "random_pred = random_classifier.predict(hash_test)\n",
    "random_accuracy = metrics.accuracy_score(y_test, random_pred)\n",
    "print(f\"Random Forest Accuracy: {random_accuracy}\")\n",
    "#confusion matrix\n",
    "cm_logistic = metrics.confusion_matrix(y_test, random_pred, labels=['FAKE', 'REAL'])\n",
    "results[\"RandomForest\"] = (random_accuracy, random_classifier)\n",
    "\n",
    "\n",
    "# SVM\n",
    "svm_classifier = SVC(kernel='poly')\n",
    "svm_classifier.fit(hash_train, y_train)\n",
    "svm_pred = random_classifier.predict(hash_test)\n",
    "svm_accuracy = metrics.accuracy_score(y_test, random_pred)\n",
    "print(f\"SVM Accuracy: {svm_accuracy}\")\n",
    "#confusion matrix\n",
    "cm_logistic = metrics.confusion_matrix(y_test, svm_pred, labels=['FAKE', 'REAL'])\n",
    "results[\"SVM\"] = (svm_accuracy, svm_classifier)\n"
   ]
  },
  {
   "cell_type": "markdown",
   "id": "748327a8-9df5-46e5-8065-a9bc9774c1fd",
   "metadata": {},
   "source": [
    "### Classification Report"
   ]
  },
  {
   "cell_type": "code",
   "execution_count": 24,
   "id": "ca2ab12e-7158-4ade-b642-a6942be14262",
   "metadata": {},
   "outputs": [
    {
     "name": "stdout",
     "output_type": "stream",
     "text": [
      "MultipolynomialNB classification report\n",
      "***************************************\n",
      "              precision    recall  f1-score   support\n",
      "\n",
      "        FAKE       0.86      0.87      0.87      1008\n",
      "        REAL       0.88      0.87      0.87      1083\n",
      "\n",
      "    accuracy                           0.87      2091\n",
      "   macro avg       0.87      0.87      0.87      2091\n",
      "weighted avg       0.87      0.87      0.87      2091\n",
      "\n",
      "Passive Aggressive Classifier classification report\n",
      "***************************************************\n",
      "              precision    recall  f1-score   support\n",
      "\n",
      "        FAKE       0.88      0.90      0.89      1008\n",
      "        REAL       0.90      0.89      0.89      1083\n",
      "\n",
      "    accuracy                           0.89      2091\n",
      "   macro avg       0.89      0.89      0.89      2091\n",
      "weighted avg       0.89      0.89      0.89      2091\n",
      "\n",
      "Logistic Regressor classification report\n",
      "****************************************\n",
      "              precision    recall  f1-score   support\n",
      "\n",
      "        FAKE       0.86      0.90      0.88      1008\n",
      "        REAL       0.90      0.86      0.88      1083\n",
      "\n",
      "    accuracy                           0.88      2091\n",
      "   macro avg       0.88      0.88      0.88      2091\n",
      "weighted avg       0.88      0.88      0.88      2091\n",
      "\n",
      "Random Forest Regressor classification report\n",
      "****************************************\n",
      "              precision    recall  f1-score   support\n",
      "\n",
      "        FAKE       0.84      0.91      0.87      1008\n",
      "        REAL       0.91      0.84      0.87      1083\n",
      "\n",
      "    accuracy                           0.87      2091\n",
      "   macro avg       0.87      0.87      0.87      2091\n",
      "weighted avg       0.87      0.87      0.87      2091\n",
      "\n",
      "SVM Regressor classification report\n",
      "****************************************\n",
      "              precision    recall  f1-score   support\n",
      "\n",
      "        FAKE       0.84      0.91      0.87      1008\n",
      "        REAL       0.91      0.84      0.87      1083\n",
      "\n",
      "    accuracy                           0.87      2091\n",
      "   macro avg       0.87      0.87      0.87      2091\n",
      "weighted avg       0.87      0.87      0.87      2091\n",
      "\n"
     ]
    }
   ],
   "source": [
    "#classification report for MultipolynomialNB\n",
    "from sklearn.metrics import classification_report\n",
    "print(\"MultipolynomialNB classification report\")\n",
    "print(\"***************************************\")\n",
    "MNB_report=classification_report(y_test, MNB_pred)\n",
    "print(MNB_report)\n",
    "\n",
    "#classification report for Passive Aggressive Classifier\n",
    "from sklearn.metrics import classification_report\n",
    "print(\"Passive Aggressive Classifier classification report\")\n",
    "print(\"***************************************************\")\n",
    "PAC_report=classification_report(y_test, PAC_pred)\n",
    "print(PAC_report)\n",
    "\n",
    "#classification report for Logistic classification\n",
    "from sklearn.metrics import classification_report\n",
    "print(\"Logistic Regressor classification report\")\n",
    "print(\"****************************************\")\n",
    "logistic_report=classification_report(y_test, logistic_pred)\n",
    "print(logistic_report)\n",
    "\n",
    "#classification report for Random Forest\n",
    "from sklearn.metrics import classification_report\n",
    "print(\"Random Forest Regressor classification report\")\n",
    "print(\"****************************************\")\n",
    "svm_report=classification_report(y_test, svm_pred)\n",
    "print(svm_report)\n",
    "\n",
    "#classification report for SVM\n",
    "from sklearn.metrics import classification_report\n",
    "print(\"SVM Regressor classification report\")\n",
    "print(\"****************************************\")\n",
    "svm_report=classification_report(y_test, svm_pred)\n",
    "print(svm_report)"
   ]
  },
  {
   "cell_type": "code",
   "execution_count": 39,
   "id": "07789b4f-c507-460a-98dc-81850636ded3",
   "metadata": {},
   "outputs": [
    {
     "name": "stdout",
     "output_type": "stream",
     "text": [
      "Best Model: PassiveAggressive with accuracy 0.892\n"
     ]
    }
   ],
   "source": [
    "best_model_name = max(results, key=lambda k: results[k][0])\n",
    "best_accuracy, best_model = results[best_model_name]\n",
    "print(f\"Best Model: {best_model_name} with accuracy {best_accuracy:.3f}\")"
   ]
  },
  {
   "cell_type": "code",
   "execution_count": 41,
   "id": "b513be77-081e-4d4a-93c2-ea4a003c1fb9",
   "metadata": {},
   "outputs": [
    {
     "data": {
      "text/plain": [
       "(0.8919177427068389, PassiveAggressiveClassifier(random_state=42))"
      ]
     },
     "execution_count": 41,
     "metadata": {},
     "output_type": "execute_result"
    }
   ],
   "source": [
    "results[best_model_name]"
   ]
  },
  {
   "cell_type": "markdown",
   "id": "514287ba-e38c-4844-a1d2-fe4e115b7f5c",
   "metadata": {},
   "source": [
    "### Save the best model"
   ]
  },
  {
   "cell_type": "code",
   "execution_count": 62,
   "id": "9b911abb-f169-4852-8242-acf4dcf4e33c",
   "metadata": {},
   "outputs": [
    {
     "data": {
      "text/plain": [
       "['best_pipeline.pkl']"
      ]
     },
     "execution_count": 62,
     "metadata": {},
     "output_type": "execute_result"
    }
   ],
   "source": [
    "from sklearn.pipeline import Pipeline\n",
    "\n",
    "# Create a pipeline with vectorizer and classifier\n",
    "pipeline = Pipeline([\n",
    "    ('vectorizer', HashingVectorizer(n_features=2000)),  # or your actual vectorizer\n",
    "    ('classifier', PassiveAggressiveClassifier(random_state=42))\n",
    "])\n",
    "\n",
    "# Fit the pipeline on training data\n",
    "pipeline.fit(dataset[\"text\"], dataset[\"label\"])\n",
    "\n",
    "# Save the whole pipeline\n",
    "joblib.dump(pipeline, \"best_pipeline.pkl\")"
   ]
  },
  {
   "cell_type": "markdown",
   "id": "fc6bf24b-5696-4060-b521-0302e8e872ec",
   "metadata": {},
   "source": [
    "### Load the saved best model"
   ]
  },
  {
   "cell_type": "code",
   "execution_count": 65,
   "id": "76f2d94e-1a4f-4450-8bf7-c346ac591077",
   "metadata": {},
   "outputs": [
    {
     "name": "stdout",
     "output_type": "stream",
     "text": [
      "['REAL']\n"
     ]
    }
   ],
   "source": [
    "pipeline = joblib.load(\"best_pipeline.pkl\")\n",
    "predictions = pipeline.predict([dataset[\"text\"][7]])\n",
    "print(predictions)"
   ]
  },
  {
   "cell_type": "markdown",
   "id": "090f2975-b8ac-4970-8b37-38cdebff5181",
   "metadata": {},
   "source": [
    "### For Checking "
   ]
  },
  {
   "cell_type": "code",
   "execution_count": 51,
   "id": "17dcdf5a-86f9-42dc-b963-cdd672dcbf36",
   "metadata": {},
   "outputs": [
    {
     "data": {
      "text/plain": [
       "2    U.S. Secretary of State John F. Kerry said Mon...\n",
       "Name: text, dtype: object"
      ]
     },
     "execution_count": 51,
     "metadata": {},
     "output_type": "execute_result"
    }
   ],
   "source": [
    "x_train[[2]]"
   ]
  },
  {
   "cell_type": "code",
   "execution_count": 53,
   "id": "01b7d173-a3b9-46f3-afb4-931d38f5cab9",
   "metadata": {},
   "outputs": [
    {
     "data": {
      "text/plain": [
       "array(['REAL'], dtype='<U4')"
      ]
     },
     "execution_count": 53,
     "metadata": {},
     "output_type": "execute_result"
    }
   ],
   "source": [
    "MNB_classifier.predict(hash_train[[2]])"
   ]
  },
  {
   "cell_type": "code",
   "execution_count": 55,
   "id": "2a91f2c0-a64a-4b92-abe9-3e85f6d8f94e",
   "metadata": {},
   "outputs": [
    {
     "data": {
      "text/plain": [
       "array(['REAL'], dtype='<U4')"
      ]
     },
     "execution_count": 55,
     "metadata": {},
     "output_type": "execute_result"
    }
   ],
   "source": [
    "PAC_classifier.predict(hash_train[[2]])"
   ]
  },
  {
   "cell_type": "code",
   "execution_count": 68,
   "id": "f27654f6-0f3a-4e16-ade9-5ef34cd7cc5b",
   "metadata": {},
   "outputs": [
    {
     "data": {
      "text/plain": [
       "array(['REAL'], dtype=object)"
      ]
     },
     "execution_count": 68,
     "metadata": {},
     "output_type": "execute_result"
    }
   ],
   "source": [
    "logisticReg_classifier.predict(hash_train[[2]])"
   ]
  },
  {
   "cell_type": "code",
   "execution_count": null,
   "id": "c7f0ad77-293a-4cb2-b815-7c0296fd5937",
   "metadata": {},
   "outputs": [],
   "source": []
  }
 ],
 "metadata": {
  "kernelspec": {
   "display_name": "Python [conda env:base] *",
   "language": "python",
   "name": "conda-base-py"
  },
  "language_info": {
   "codemirror_mode": {
    "name": "ipython",
    "version": 3
   },
   "file_extension": ".py",
   "mimetype": "text/x-python",
   "name": "python",
   "nbconvert_exporter": "python",
   "pygments_lexer": "ipython3",
   "version": "3.12.7"
  }
 },
 "nbformat": 4,
 "nbformat_minor": 5
}
